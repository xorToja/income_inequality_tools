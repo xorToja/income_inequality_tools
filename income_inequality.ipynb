{
  "nbformat": 4,
  "nbformat_minor": 0,
  "metadata": {
    "colab": {
      "name": "income_inequality.ipynb",
      "provenance": [],
      "collapsed_sections": [],
      "toc_visible": true
    },
    "kernelspec": {
      "name": "python3",
      "display_name": "Python 3"
    }
  },
  "cells": [
    {
      "cell_type": "markdown",
      "metadata": {
        "id": "J7CJ4PTD_api"
      },
      "source": [
        "### Table of Content\n",
        "1. [Importing modules](#a1)\n",
        "1. [Loading Dataset](#a2)\n",
        "2. [Cleaning Dataset](#a3)\n",
        "3. [Min and Max](#a4)\n",
        "4. [Mean, Median, Quintiles](#a5)    \n",
        "5. [Gini, L-Theil, T-Theil, S80/S20](#a6)\n",
        "6. [Histogram](#a7)\n",
        "7. [Lorenz Curve](#a8)"
      ]
    },
    {
      "cell_type": "markdown",
      "metadata": {
        "id": "3micnDNeBRzL"
      },
      "source": [
        "### Introduction\n",
        "\n",
        "> All the code on this page was initially created in R for the purpose of calculations carried out in my Master's thesis entitled:\n",
        "\"Income inequality research among young Warsaw residents - statistical analysis\"\n",
        ">\n",
        "> The diploma thesis was written in 2020, at the Warsaw University of Life Sciences.\n",
        ">\n",
        "> I decided to rewrite all the R code into Python as it could be of help to future researchers.\n",
        ">\n",
        "> The thesis is available for inspection in the library of SGGW in Warsaw.\n",
        "\n",
        "Keywords – income inequality, Gini coefficient, Theil index, Pareto distribution, log-normal distribution, S80/S20 ratio\n",
        "\n",
        "\n"
      ]
    },
    {
      "cell_type": "markdown",
      "metadata": {
        "id": "PcCCMIjqAaLH"
      },
      "source": [
        "### About dataset\n",
        "\n",
        "> Basically, the data used in this project was entirely contained in an excel .xlsx file. The file contains 4 sheets (one for each period every five years) named: dane_2003, dane_2008, dane_2013, dane_2018. In each sheet, there was a table, containing various number of rows. Frist row was always a header for dataset. Every table was build from 7 columns: ID (numeric), NAME (text), INCOME (numeric), DATEOFBIRTHDAY (date type), AGE (numeric), SEX (single char), AGROUP (numeric).\n",
        ">\n",
        "> SEX: (based on NAME column)\n",
        "* F - female\n",
        "* M - male\n",
        ">\n",
        "> AGROUP: (based on AGE column)\n",
        "*   1 - [18;21]\n",
        "*   2 - [22;25]\n",
        "*   3 - [26;30]\n",
        ">\n",
        "> Unfortunately, the dataset was made available only for the purpose of completing the diploma thesis, which is why I do not include them in this repository\n"
      ]
    },
    {
      "cell_type": "markdown",
      "metadata": {
        "id": "TuplPjyoUFaF"
      },
      "source": [
        "# <a name='a1'></a> Importing modules"
      ]
    },
    {
      "cell_type": "code",
      "metadata": {
        "id": "ufbBrwbcUIMi"
      },
      "source": [
        "import numpy as np\n",
        "import pandas as pd\n",
        "import matplotlib.pyplot as plt\n",
        "import plotly\n",
        "import plotly.express as px"
      ],
      "execution_count": 3,
      "outputs": []
    },
    {
      "cell_type": "markdown",
      "metadata": {
        "id": "tkvTHSc-T_Z1"
      },
      "source": [
        "# <a name='a2'></a> Loading Dataset"
      ]
    },
    {
      "cell_type": "code",
      "metadata": {
        "id": "PA4Vv-GOUDX9"
      },
      "source": [
        "'''\n",
        "  function that simply look for a file in the given path and\n",
        "  use pandas.read_excel method\n",
        "  if the file exists, then this function return 4 elements list,\n",
        "  each element is a dataframe object loaded from each sheet in file\n",
        "  if the file doesn't exist, then it return zero\n",
        "\n",
        "  it's important to have 'ID' column in each sheet\n",
        "\n",
        "  Parameters\n",
        "  ---------\n",
        "  sheets : list of strings with sheets names\n",
        "  path : path to excel file\n",
        "\n",
        "  Returns\n",
        "  ---------\n",
        "  dataframes_list : list containing pandas.dataframe objects\n",
        "    4 elements list with dataframes if file exists\n",
        "  0 (zero)\n",
        "    if file doesn't exist\n",
        "'''\n",
        "def import_dataset(sheets, path):\n",
        "  if path:\n",
        "    dataframes_list = list()\n",
        "    for sheet in sheets:\n",
        "      dataframes_list.append(pd.read_excel(path,\n",
        "                                          sheet_name = sheet,\n",
        "                                          index_col = 'ID'))\n",
        "    return dataframes_list\n",
        "  else:\n",
        "    return 0\n"
      ],
      "execution_count": 4,
      "outputs": []
    },
    {
      "cell_type": "code",
      "metadata": {
        "id": "8xwp5JGqU9io"
      },
      "source": [
        "sheets = ['dane_2003', 'dane_2008', 'dane_2013', 'dane_2018']"
      ],
      "execution_count": 5,
      "outputs": []
    },
    {
      "cell_type": "code",
      "metadata": {
        "id": "p3SkyVWBVKYJ"
      },
      "source": [
        "list_of_dataframes = import_dataset(sheets, 'data.xlsx')"
      ],
      "execution_count": 6,
      "outputs": []
    },
    {
      "cell_type": "code",
      "metadata": {
        "id": "FB7uoKrkVTPE",
        "outputId": "f1a8da39-2bfc-4c7b-8c04-cb8357d47144",
        "colab": {
          "base_uri": "https://localhost:8080/"
        }
      },
      "source": [
        "# list_of_dataframes[0]\n",
        "type(list_of_dataframes[0])\n"
      ],
      "execution_count": 8,
      "outputs": [
        {
          "output_type": "execute_result",
          "data": {
            "text/plain": [
              "pandas.core.frame.DataFrame"
            ]
          },
          "metadata": {
            "tags": []
          },
          "execution_count": 8
        }
      ]
    },
    {
      "cell_type": "markdown",
      "metadata": {
        "id": "QMXUKh7TY12Y"
      },
      "source": [
        "# <a name='a3'></a> Cleaning Dataset"
      ]
    },
    {
      "cell_type": "code",
      "metadata": {
        "id": "rdCkcRFTV99N"
      },
      "source": [
        "'''\n",
        "  so the main purpose of this function is to simply change \n",
        "  datatypes of each column to more efficient ones and to remove\n",
        "  unusefull columns from the given dataframes\n",
        "\n",
        "  Parameters\n",
        "  ---------\n",
        "  dataframe_to_clean : pandas.dataframe object to clean\n",
        "\n",
        "  Returns\n",
        "  ---------\n",
        "  new_dataframe : pandas.dataframe object\n",
        "'''\n",
        "\n",
        "\n",
        "def clean_dataset(dataframe_to_clean):\n",
        "  print('old dataframe memory usage: ')\n",
        "  dataframe_to_clean.info(memory_usage = 'deep')\n",
        "  new_dataframe = dataframe_to_clean.copy()\n",
        "  new_dataframe['SEX'] = new_dataframe['SEX'].astype('category')\n",
        "  new_dataframe['AGROUP'] = new_dataframe['AGROUP'].astype('uint8')\n",
        "  del new_dataframe['NAME']\n",
        "  del new_dataframe['AGE']\n",
        "  print('new dataframe memory usage: ')\n",
        "  new_dataframe.info(memory_usage = 'deep')\n",
        "  return new_dataframe\n"
      ],
      "execution_count": 9,
      "outputs": []
    },
    {
      "cell_type": "code",
      "metadata": {
        "id": "UflDyP7vYEok",
        "outputId": "c5d25cec-3b29-419e-8742-f338c100b5ed",
        "colab": {
          "base_uri": "https://localhost:8080/"
        }
      },
      "source": [
        "for i in range(4):\n",
        "  list_of_dataframes[i] = clean_dataset(list_of_dataframes[i])\n"
      ],
      "execution_count": 10,
      "outputs": [
        {
          "output_type": "stream",
          "text": [
            "old dataframe memory usage: \n",
            "<class 'pandas.core.frame.DataFrame'>\n",
            "Int64Index: 13246 entries, 1 to 13246\n",
            "Data columns (total 6 columns):\n",
            " #   Column          Non-Null Count  Dtype         \n",
            "---  ------          --------------  -----         \n",
            " 0   NAME            13246 non-null  object        \n",
            " 1   INCOME          13246 non-null  float64       \n",
            " 2   DATEOFBIRTHDAY  13246 non-null  datetime64[ns]\n",
            " 3   AGE             13246 non-null  int64         \n",
            " 4   SEX             13246 non-null  object        \n",
            " 5   AGROUP          13246 non-null  int64         \n",
            "dtypes: datetime64[ns](1), float64(1), int64(2), object(2)\n",
            "memory usage: 2.2 MB\n",
            "new dataframe memory usage: \n",
            "<class 'pandas.core.frame.DataFrame'>\n",
            "Int64Index: 13246 entries, 1 to 13246\n",
            "Data columns (total 4 columns):\n",
            " #   Column          Non-Null Count  Dtype         \n",
            "---  ------          --------------  -----         \n",
            " 0   INCOME          13246 non-null  float64       \n",
            " 1   DATEOFBIRTHDAY  13246 non-null  datetime64[ns]\n",
            " 2   SEX             13246 non-null  category      \n",
            " 3   AGROUP          13246 non-null  uint8         \n",
            "dtypes: category(1), datetime64[ns](1), float64(1), uint8(1)\n",
            "memory usage: 336.5 KB\n",
            "old dataframe memory usage: \n",
            "<class 'pandas.core.frame.DataFrame'>\n",
            "Int64Index: 16005 entries, 1 to 16005\n",
            "Data columns (total 6 columns):\n",
            " #   Column          Non-Null Count  Dtype         \n",
            "---  ------          --------------  -----         \n",
            " 0   NAME            16005 non-null  object        \n",
            " 1   INCOME          16005 non-null  float64       \n",
            " 2   DATEOFBIRTHDAY  16005 non-null  datetime64[ns]\n",
            " 3   AGE             16005 non-null  int64         \n",
            " 4   SEX             16005 non-null  object        \n",
            " 5   AGROUP          16005 non-null  int64         \n",
            "dtypes: datetime64[ns](1), float64(1), int64(2), object(2)\n",
            "memory usage: 2.7 MB\n",
            "new dataframe memory usage: \n",
            "<class 'pandas.core.frame.DataFrame'>\n",
            "Int64Index: 16005 entries, 1 to 16005\n",
            "Data columns (total 4 columns):\n",
            " #   Column          Non-Null Count  Dtype         \n",
            "---  ------          --------------  -----         \n",
            " 0   INCOME          16005 non-null  float64       \n",
            " 1   DATEOFBIRTHDAY  16005 non-null  datetime64[ns]\n",
            " 2   SEX             16005 non-null  category      \n",
            " 3   AGROUP          16005 non-null  uint8         \n",
            "dtypes: category(1), datetime64[ns](1), float64(1), uint8(1)\n",
            "memory usage: 406.6 KB\n",
            "old dataframe memory usage: \n",
            "<class 'pandas.core.frame.DataFrame'>\n",
            "Int64Index: 14007 entries, 1 to 14007\n",
            "Data columns (total 6 columns):\n",
            " #   Column          Non-Null Count  Dtype         \n",
            "---  ------          --------------  -----         \n",
            " 0   NAME            14007 non-null  object        \n",
            " 1   INCOME          14007 non-null  float64       \n",
            " 2   DATEOFBIRTHDAY  14007 non-null  datetime64[ns]\n",
            " 3   AGE             14007 non-null  int64         \n",
            " 4   SEX             14007 non-null  object        \n",
            " 5   AGROUP          14007 non-null  int64         \n",
            "dtypes: datetime64[ns](1), float64(1), int64(2), object(2)\n",
            "memory usage: 2.3 MB\n",
            "new dataframe memory usage: \n",
            "<class 'pandas.core.frame.DataFrame'>\n",
            "Int64Index: 14007 entries, 1 to 14007\n",
            "Data columns (total 4 columns):\n",
            " #   Column          Non-Null Count  Dtype         \n",
            "---  ------          --------------  -----         \n",
            " 0   INCOME          14007 non-null  float64       \n",
            " 1   DATEOFBIRTHDAY  14007 non-null  datetime64[ns]\n",
            " 2   SEX             14007 non-null  category      \n",
            " 3   AGROUP          14007 non-null  uint8         \n",
            "dtypes: category(1), datetime64[ns](1), float64(1), uint8(1)\n",
            "memory usage: 355.9 KB\n",
            "old dataframe memory usage: \n",
            "<class 'pandas.core.frame.DataFrame'>\n",
            "Int64Index: 17797 entries, 1 to 17797\n",
            "Data columns (total 6 columns):\n",
            " #   Column          Non-Null Count  Dtype         \n",
            "---  ------          --------------  -----         \n",
            " 0   NAME            17797 non-null  object        \n",
            " 1   INCOME          17797 non-null  float64       \n",
            " 2   DATEOFBIRTHDAY  17797 non-null  datetime64[ns]\n",
            " 3   AGE             17797 non-null  int64         \n",
            " 4   SEX             17797 non-null  object        \n",
            " 5   AGROUP          17797 non-null  int64         \n",
            "dtypes: datetime64[ns](1), float64(1), int64(2), object(2)\n",
            "memory usage: 2.9 MB\n",
            "new dataframe memory usage: \n",
            "<class 'pandas.core.frame.DataFrame'>\n",
            "Int64Index: 17797 entries, 1 to 17797\n",
            "Data columns (total 4 columns):\n",
            " #   Column          Non-Null Count  Dtype         \n",
            "---  ------          --------------  -----         \n",
            " 0   INCOME          17797 non-null  float64       \n",
            " 1   DATEOFBIRTHDAY  17797 non-null  datetime64[ns]\n",
            " 2   SEX             17797 non-null  category      \n",
            " 3   AGROUP          17797 non-null  uint8         \n",
            "dtypes: category(1), datetime64[ns](1), float64(1), uint8(1)\n",
            "memory usage: 452.1 KB\n"
          ],
          "name": "stdout"
        }
      ]
    },
    {
      "cell_type": "code",
      "metadata": {
        "id": "9CMCpNYeYVGA"
      },
      "source": [
        "### changing list_of_dataframes to a dictionary object using its sheets name\n",
        "\n",
        "dict_of_dataframes = dict(zip(sheets, list_of_dataframes))"
      ],
      "execution_count": 11,
      "outputs": []
    },
    {
      "cell_type": "code",
      "metadata": {
        "id": "Bvv6AgftZM5s"
      },
      "source": [
        "# dict_of_dataframes.items()"
      ],
      "execution_count": null,
      "outputs": []
    },
    {
      "cell_type": "markdown",
      "metadata": {
        "id": "qXv5F1dun9n8"
      },
      "source": [
        "# <a name='a4'></a> Getting minimum and maximum value as a list of dicts\n"
      ]
    },
    {
      "cell_type": "code",
      "metadata": {
        "id": "MeLZZ80mZQy7"
      },
      "source": [
        "'''\n",
        "  this function is responsible for printing out min and max income value\n",
        "  you just simply need to pass dataframe object (containing 'INCOME' column)\n",
        "  and it's name. It also return single dictionary object with those min and max\n",
        "  values\n",
        "\n",
        "  Parameters\n",
        "  ---------\n",
        "  dataframe : pandas.dataframe object\n",
        "  name : string\n",
        "\n",
        "  Returns\n",
        "  ---------\n",
        "  dictionary object with two elements:\n",
        "    min_name : min_value\n",
        "    max_name : max_value  \n",
        "'''\n",
        "def get_min_max(dataframe, name):\n",
        "  tmp_min = dataframe['INCOME'].min()\n",
        "  tmp_max = dataframe['INCOME'].max()\n",
        "  print(f'Minimum value of income for: {name} is: {tmp_min}')\n",
        "  print(f'Maximum value of income for: {name} is: {tmp_max}')\n",
        "  min_name = 'min_' + name\n",
        "  max_name = 'max_' + name\n",
        "  return {min_name : tmp_min, max_name : tmp_max}"
      ],
      "execution_count": 12,
      "outputs": []
    },
    {
      "cell_type": "code",
      "metadata": {
        "id": "Ex_5IbTJoTAN",
        "outputId": "5d44ab42-c97b-4fd6-c608-d9cca4f2019b",
        "colab": {
          "base_uri": "https://localhost:8080/"
        }
      },
      "source": [
        "min_max_list = list()\n",
        "for key, value in dict_of_dataframes.items():\n",
        "  min_max_list.append(get_min_max(value, key))"
      ],
      "execution_count": 13,
      "outputs": [
        {
          "output_type": "stream",
          "text": [
            "Minimum value of income for: dane_2003 is: 4.68\n",
            "Maximum value of income for: dane_2003 is: 677327.37\n",
            "Minimum value of income for: dane_2008 is: 1.55\n",
            "Maximum value of income for: dane_2008 is: 471454.77\n",
            "Minimum value of income for: dane_2013 is: 3.59\n",
            "Maximum value of income for: dane_2013 is: 526750.66\n",
            "Minimum value of income for: dane_2018 is: 1.05\n",
            "Maximum value of income for: dane_2018 is: 568373.81\n"
          ],
          "name": "stdout"
        }
      ]
    },
    {
      "cell_type": "code",
      "metadata": {
        "id": "P3bqkQZPqLN1",
        "outputId": "e2f4e53a-7016-45a7-a480-a410c9deacd7",
        "colab": {
          "base_uri": "https://localhost:8080/"
        }
      },
      "source": [
        "min_max_list[:]"
      ],
      "execution_count": 14,
      "outputs": [
        {
          "output_type": "execute_result",
          "data": {
            "text/plain": [
              "[{'max_dane_2003': 677327.37, 'min_dane_2003': 4.68},\n",
              " {'max_dane_2008': 471454.77, 'min_dane_2008': 1.55},\n",
              " {'max_dane_2013': 526750.66, 'min_dane_2013': 3.59},\n",
              " {'max_dane_2018': 568373.81, 'min_dane_2018': 1.05}]"
            ]
          },
          "metadata": {
            "tags": []
          },
          "execution_count": 14
        }
      ]
    },
    {
      "cell_type": "markdown",
      "metadata": {
        "id": "K5HczoLtrqlM"
      },
      "source": [
        "# <a name='a5'></a> Getting mean, median and quintiles as a list of dicts\n",
        "\n",
        "\n"
      ]
    },
    {
      "cell_type": "code",
      "metadata": {
        "id": "Zc9wkBXXqgxz"
      },
      "source": [
        "'''\n",
        "  this function is responsible for printing out mean, median\n",
        "  and 1st and 4th quintile value for income, you just simply need to\n",
        "  pass dataframe object (containing 'INCOME' column) and it's name.\n",
        "  It also return single dictionary object with all of those values.\n",
        "  Values are rounded to 2 decimal places.\n",
        "\n",
        "  Parameters\n",
        "  ---------\n",
        "  dataframe : pandas.dataframe object\n",
        "  name : string\n",
        "\n",
        "  Returns\n",
        "  ---------\n",
        "  dictionary object with four elements:\n",
        "    mean_name : mean_value\n",
        "    median_name : median_value\n",
        "    first_name : 1st_quintile_value\n",
        "    last_name : 4th_quintile_value \n",
        "'''\n",
        "def get_mean_median_quint(dataframe, name):\n",
        "  tmp_mean = round(dataframe['INCOME'].mean(), 2)\n",
        "  tmp_median = round(dataframe['INCOME'].median(), 2)\n",
        "  tmp_first = round(dataframe['INCOME'].quantile(q = 0.2), 2)\n",
        "  tmp_last = round(dataframe['INCOME'].quantile(q = 0.8), 2)\n",
        "\n",
        "  print(f'Mean for {name} is equal: {tmp_mean}')\n",
        "  print(f'Median for {name} is equal: {tmp_median}')\n",
        "  print(f'1st quintile for {name} is equal: {tmp_first}')\n",
        "  print(f'4th quintile for {name} is equal: {tmp_last}')\n",
        "\n",
        "  mean_name = 'mean_' + name\n",
        "  median_name = 'median_' + name\n",
        "  first_name = '1st_' + name\n",
        "  last_name = '4th_' + name\n",
        "  return {mean_name : tmp_mean,\n",
        "          median_name : tmp_median,\n",
        "          first_name : tmp_first,\n",
        "          last_name : tmp_last}\n"
      ],
      "execution_count": 15,
      "outputs": []
    },
    {
      "cell_type": "code",
      "metadata": {
        "id": "Xp03iYDotJfK",
        "outputId": "0d4b0bc0-e461-43d8-b1ff-415be65a4481",
        "colab": {
          "base_uri": "https://localhost:8080/"
        }
      },
      "source": [
        "mean_med_quint_list = list()\n",
        "for key, value in dict_of_dataframes.items():\n",
        "  mean_med_quint_list.append(get_mean_median_quint(value, key))"
      ],
      "execution_count": 16,
      "outputs": [
        {
          "output_type": "stream",
          "text": [
            "Mean for dane_2003 is equal: 27481.84\n",
            "Median for dane_2003 is equal: 19973.4\n",
            "1st quintile for dane_2003 is equal: 6700.44\n",
            "4th quintile for dane_2003 is equal: 41600.48\n",
            "Mean for dane_2008 is equal: 36975.6\n",
            "Median for dane_2008 is equal: 29031.07\n",
            "1st quintile for dane_2008 is equal: 10279.18\n",
            "4th quintile for dane_2008 is equal: 55700.36\n",
            "Mean for dane_2013 is equal: 39498.51\n",
            "Median for dane_2013 is equal: 33321.51\n",
            "1st quintile for dane_2013 is equal: 12123.13\n",
            "4th quintile for dane_2013 is equal: 60202.54\n",
            "Mean for dane_2018 is equal: 45528.91\n",
            "Median for dane_2018 is equal: 40005.56\n",
            "1st quintile for dane_2018 is equal: 12961.54\n",
            "4th quintile for dane_2018 is equal: 69580.56\n"
          ],
          "name": "stdout"
        }
      ]
    },
    {
      "cell_type": "code",
      "metadata": {
        "id": "Htn2T2cbtaw4",
        "outputId": "1e5b7a56-ba50-411e-fbbd-2d69c03c12a9",
        "colab": {
          "base_uri": "https://localhost:8080/"
        }
      },
      "source": [
        "mean_med_quint_list"
      ],
      "execution_count": 17,
      "outputs": [
        {
          "output_type": "execute_result",
          "data": {
            "text/plain": [
              "[{'1st_dane_2003': 6700.44,\n",
              "  '4th_dane_2003': 41600.48,\n",
              "  'mean_dane_2003': 27481.84,\n",
              "  'median_dane_2003': 19973.4},\n",
              " {'1st_dane_2008': 10279.18,\n",
              "  '4th_dane_2008': 55700.36,\n",
              "  'mean_dane_2008': 36975.6,\n",
              "  'median_dane_2008': 29031.07},\n",
              " {'1st_dane_2013': 12123.13,\n",
              "  '4th_dane_2013': 60202.54,\n",
              "  'mean_dane_2013': 39498.51,\n",
              "  'median_dane_2013': 33321.51},\n",
              " {'1st_dane_2018': 12961.54,\n",
              "  '4th_dane_2018': 69580.56,\n",
              "  'mean_dane_2018': 45528.91,\n",
              "  'median_dane_2018': 40005.56}]"
            ]
          },
          "metadata": {
            "tags": []
          },
          "execution_count": 17
        }
      ]
    },
    {
      "cell_type": "markdown",
      "metadata": {
        "id": "_ToXhdWjt8pN"
      },
      "source": [
        "# <a name='a6'></a> Getting Gini, L-Theil, T-Theil and S80/S20 as a list of dicts"
      ]
    },
    {
      "cell_type": "markdown",
      "metadata": {
        "id": "11Ua_8HhaWAf"
      },
      "source": [
        "### the mathematical formula used to count Gini coefficient:\n",
        "$$\n",
        "G = \\frac{2}{n}\\sum_{i=1}^{n} i * s_{(i)} - 1 - \\frac{1}{n}\n",
        "$$\n",
        "> $n$ - number of cases ordered in ascending order\n",
        ">\n",
        "> $s_{(1)}, s_{(2)}, ...$ - cases ordered in ascending order\n",
        ">\n",
        "> $i$ - rank given to ordered cases"
      ]
    },
    {
      "cell_type": "code",
      "metadata": {
        "id": "PV4VdCQ6tgJO"
      },
      "source": [
        "'''\n",
        "  this function is responsible for printing out Gini coefficient value.\n",
        "  you just simply need to pass dataframe object (containing 'INCOME' column)\n",
        "  \n",
        "  Parameters\n",
        "  ---------\n",
        "  dataframe : pandas.dataframe object\n",
        "\n",
        "  Returns\n",
        "  ---------\n",
        "  gini : float\n",
        "    gini coefficient value  \n",
        "'''\n",
        "def gini_coef(dataframe):\n",
        "  serie = dataframe['INCOME'].copy()\n",
        "  serie.sort_values(ascending = True, inplace = True)\n",
        "  tmp_mean = np.mean(serie)\n",
        "  n = len(serie)\n",
        "  ans = 0\n",
        "  for i, element in enumerate(serie, start = 1):\n",
        "    ans += (2*i - n - 1)*element\n",
        "  gini = ans / ((n**2) * tmp_mean)\n",
        "  return gini"
      ],
      "execution_count": 18,
      "outputs": []
    },
    {
      "cell_type": "markdown",
      "metadata": {
        "id": "_r4ynvVwRcUn"
      },
      "source": [
        "### the mathematical formula used to count Theil index:\n",
        "$\n",
        "GE(\\alpha) = \\Bigg\\{ \\begin{matrix}\n",
        "\\frac{1}{\\alpha(\\alpha - 1)} \\frac{1}{n} \\sum_i [(\\frac{x_i}{\\mu})^\\alpha - 1] & \\alpha \\neq 0; 1 \\\\\n",
        "\\frac{1}{n} \\sum_i \\frac{x_i}{\\mu} \\ln\\frac{x_i}{\\mu} & \\alpha = 1 \\\\\n",
        "-\\frac{1}{n} \\sum_i \\ln\\frac{x_i}{\\mu}& \\alpha = 0\\\\ \n",
        "\\end{matrix}\n",
        "$\n",
        "> $n$ - number of units\n",
        ">\n",
        "> $\\mu$ - mean income\n",
        ">\n",
        "> $x_i$ - income of $i$-th unit\n",
        ">\n",
        "> $\\alpha$ - can be anything, but usually is equal $-1, 0, 1, 2$\n",
        ">\n",
        "> $1$ stands for T-Theil and $0$ stands for L-Theil"
      ]
    },
    {
      "cell_type": "code",
      "metadata": {
        "id": "as94z2Kbuhfr"
      },
      "source": [
        "'''\n",
        "  this function is specified to count L-Theil index\n",
        "  pass dataframe object (containing 'INCOME' column)\n",
        "  \n",
        "  Parameters\n",
        "  ---------\n",
        "  dataframe : pandas.dataframe object\n",
        "\n",
        "  Returns\n",
        "  ---------\n",
        "  L-Theil value : float\n",
        "'''\n",
        "def l_theil_coef(dataframe):\n",
        "  serie = dataframe['INCOME'].copy()\n",
        "  tmp_mean = np.mean(serie)\n",
        "  n = len(serie)\n",
        "  ans = 0\n",
        "  for value in serie:\n",
        "    ans += np.log(value/tmp_mean)\n",
        "  return -(ans/n)"
      ],
      "execution_count": 19,
      "outputs": []
    },
    {
      "cell_type": "code",
      "metadata": {
        "id": "fCnSVHJ1wbNQ"
      },
      "source": [
        "'''\n",
        "  this function is specified to count T-Theil index\n",
        "  pass dataframe object (containing 'INCOME' column)\n",
        "  \n",
        "  Parameters\n",
        "  ---------\n",
        "  dataframe : pandas.dataframe object\n",
        "\n",
        "  Returns\n",
        "  ---------\n",
        "  T-Theil value : float\n",
        "'''\n",
        "def t_theil_coef(dataframe):\n",
        "  serie = dataframe['INCOME'].copy()\n",
        "  tmp_mean = np.mean(serie)\n",
        "  n = len(serie)\n",
        "  ans = 0\n",
        "  for value in serie:\n",
        "    ans += (value / tmp_mean) * np.log(value / tmp_mean)\n",
        "  return (ans/n)"
      ],
      "execution_count": 20,
      "outputs": []
    },
    {
      "cell_type": "code",
      "metadata": {
        "id": "tlKF4FELwwUr"
      },
      "source": [
        "'''\n",
        "  This function is responsible of calculating\n",
        "  the value of the Theil index depending on the given alpha parameter\n",
        "  passed dataframe object must contain 'INCOME' column!\n",
        "  \n",
        "  Parameters\n",
        "  ---------\n",
        "  dataframe : pandas.dataframe object\n",
        "  alpha : int\n",
        "\n",
        "  Returns\n",
        "  ---------\n",
        "  Theil index value : float\n",
        "'''\n",
        "def theil_coef(dataframe, alpha):\n",
        "  a = str(alpha)\n",
        "  if a == '1' or a.lower() == 't':\n",
        "    return t_theil_coef(dataframe)\n",
        "  elif a == '0' or a.lower() == 'l':\n",
        "    return l_theil_coef(dataframe)\n",
        "  else:\n",
        "    serie = dataframe['INCOME'].copy()\n",
        "    tmp_mean = np.mean(serie)\n",
        "    n = len(serie)\n",
        "    ans = 0\n",
        "    for value in serie:\n",
        "      ans += np.power((value / tmp_mean), alpha) - 1\n",
        "    return ((1/(alpha*(alpha-1)*n))*ans)/n"
      ],
      "execution_count": 21,
      "outputs": []
    },
    {
      "cell_type": "markdown",
      "metadata": {
        "id": "EBXgm4PcZSgS"
      },
      "source": [
        "### the mathematical formula used to count s80/s20\n",
        "$\n",
        "S80/S20 = \\frac{\\sum_{a}X_i}{\\sum_{b}X_i}\n",
        "$\n",
        "\n",
        "$a = \\big( x_i > x_{\\frac{4}{5}} \\big)$ \n",
        "\n",
        "$b = \\big( x_i < x_{\\frac{1}{5}} \\big)$\n",
        "\n",
        "> $x_{\\frac{4}{5}}$ - 1st quintile\n",
        ">\n",
        "> $x_{\\frac{1}{5}}$ - 4th quintile\n",
        ">\n",
        "> $x_i$ - income of $i$-th unit\n",
        "\n"
      ]
    },
    {
      "cell_type": "code",
      "metadata": {
        "id": "DtibYYmyxK-J"
      },
      "source": [
        "'''\n",
        "  This function is responsible for calculating s80/s20\n",
        "  just simply pass dataframe object containing 'INCOME' column\n",
        "  \n",
        "  Parameters\n",
        "  ---------\n",
        "  dataframe : pandas.dataframe object\n",
        "\n",
        "  Returns\n",
        "  ---------\n",
        "  s80/s20 value : float\n",
        "'''\n",
        "def s_80_20(dataframe):\n",
        "  serie = dataframe['INCOME'].copy()\n",
        "  tmp_first = round(serie.quantile(q=0.2), 2)\n",
        "  tmp_last = round(serie.quantile(q=0.8), 2)\n",
        "  lower_serie = serie[serie < tmp_first]\n",
        "  upper_serie = serie[serie > tmp_last]\n",
        "  return upper_serie.sum() / lower_serie.sum()\n"
      ],
      "execution_count": 22,
      "outputs": []
    },
    {
      "cell_type": "code",
      "metadata": {
        "id": "7eR7YGdDxvyw"
      },
      "source": [
        "### test\n",
        "\n",
        "#gini_coef(dict_of_dataframes['dane_2018'])\n",
        "#print(theil_coef(dict_of_dataframes['dane_2018'], 'l'))\n",
        "#print(theil_coef(dict_of_dataframes['dane_2018'], 'T'))\n",
        "#s_80_20(dict_of_dataframes['dane_2018'])\n"
      ],
      "execution_count": null,
      "outputs": []
    },
    {
      "cell_type": "code",
      "metadata": {
        "id": "_unX7sBS7ZTO"
      },
      "source": [
        "'''\n",
        "  this function is responsible for printing out Gini coefficient,\n",
        "  L-Theil and T-Theil index and s80/s20 value, you just simply need to\n",
        "  pass dataframe object (containing 'INCOME' column) and it's name.\n",
        "  It also return single dictionary object with all of those values.\n",
        "  Values are rounded to 3 decimal places.\n",
        "\n",
        "  Parameters\n",
        "  ---------\n",
        "  dataframe : pandas.dataframe object\n",
        "  name : string\n",
        "    dataset name\n",
        "\n",
        "  Returns\n",
        "  ---------\n",
        "  dictionary object with four elements:\n",
        "    gini_name : gini_coef_value\n",
        "    l_name : l-theil_value\n",
        "    t_name : t-theil_value\n",
        "    s_name : s80/s20_value \n",
        "'''\n",
        "def get_gini_theil_s8020(dataframe, name):\n",
        "  tmp_gini = round(gini_coef(dataframe), 3)\n",
        "  tmp_L = round(theil_coef(dataframe, 'L'), 3)\n",
        "  tmp_T = round(theil_coef(dataframe, 'T'), 3)\n",
        "  tmp_S = round(s_80_20(dataframe), 3)\n",
        "\n",
        "  print(f'Gini coef for {name} = {tmp_gini}')\n",
        "  print(f'L-Theil coef for {name} = {tmp_L}')\n",
        "  print(f'T-Theil coef for {name} = {tmp_T}')\n",
        "  print(f'S80/S80 index for {name} = {tmp_S}')\n",
        "\n",
        "  gini_name = 'gini_' + name\n",
        "  l_name = 'L-Theil_' + name\n",
        "  t_name = 'T-Theil_' + name\n",
        "  s_name = 'S80/20_' + name\n",
        "  return {gini_name : tmp_gini,\n",
        "          l_name : tmp_L,\n",
        "          t_name : tmp_T,\n",
        "          s_name : tmp_S}"
      ],
      "execution_count": 23,
      "outputs": []
    },
    {
      "cell_type": "code",
      "metadata": {
        "id": "U-TbS5T356Cz",
        "outputId": "58f2c49e-f99d-4351-e576-0262d73c0966",
        "colab": {
          "base_uri": "https://localhost:8080/"
        }
      },
      "source": [
        "gini_theil_s8020_list = list()\n",
        "for key, value in dict_of_dataframes.items():\n",
        "  gini_theil_s8020_list.append(get_gini_theil_s8020(value, key))"
      ],
      "execution_count": 24,
      "outputs": [
        {
          "output_type": "stream",
          "text": [
            "Gini coef for dane_2003 = 0.496\n",
            "L-Theil coef for dane_2003 = 0.553\n",
            "T-Theil coef for dane_2003 = 0.434\n",
            "S80/S80 index for dane_2003 = 22.804\n",
            "Gini coef for dane_2008 = 0.466\n",
            "L-Theil coef for dane_2008 = 0.506\n",
            "T-Theil coef for dane_2008 = 0.376\n",
            "S80/S80 index for dane_2008 = 19.248\n",
            "Gini coef for dane_2013 = 0.43\n",
            "L-Theil coef for dane_2013 = 0.459\n",
            "T-Theil coef for dane_2013 = 0.319\n",
            "S80/S80 index for dane_2013 = 16.732\n",
            "Gini coef for dane_2018 = 0.423\n",
            "L-Theil coef for dane_2018 = 0.453\n",
            "T-Theil coef for dane_2018 = 0.307\n",
            "S80/S80 index for dane_2018 = 16.959\n"
          ],
          "name": "stdout"
        }
      ]
    },
    {
      "cell_type": "code",
      "metadata": {
        "id": "rqkLb93eF6wN",
        "outputId": "3cacacc5-ec2f-49a1-dfc2-b36cf09c8da2",
        "colab": {
          "base_uri": "https://localhost:8080/"
        }
      },
      "source": [
        "gini_theil_s8020_list"
      ],
      "execution_count": 25,
      "outputs": [
        {
          "output_type": "execute_result",
          "data": {
            "text/plain": [
              "[{'L-Theil_dane_2003': 0.553,\n",
              "  'S80/20_dane_2003': 22.804,\n",
              "  'T-Theil_dane_2003': 0.434,\n",
              "  'gini_dane_2003': 0.496},\n",
              " {'L-Theil_dane_2008': 0.506,\n",
              "  'S80/20_dane_2008': 19.248,\n",
              "  'T-Theil_dane_2008': 0.376,\n",
              "  'gini_dane_2008': 0.466},\n",
              " {'L-Theil_dane_2013': 0.459,\n",
              "  'S80/20_dane_2013': 16.732,\n",
              "  'T-Theil_dane_2013': 0.319,\n",
              "  'gini_dane_2013': 0.43},\n",
              " {'L-Theil_dane_2018': 0.453,\n",
              "  'S80/20_dane_2018': 16.959,\n",
              "  'T-Theil_dane_2018': 0.307,\n",
              "  'gini_dane_2018': 0.423}]"
            ]
          },
          "metadata": {
            "tags": []
          },
          "execution_count": 25
        }
      ]
    },
    {
      "cell_type": "markdown",
      "metadata": {
        "id": "IXt4osH_OtcT"
      },
      "source": [
        "# <a name='a7'></a> Creating Histogram"
      ]
    },
    {
      "cell_type": "code",
      "metadata": {
        "id": "jyw5Dys8Myru",
        "outputId": "6bc48ec0-6c27-4653-9d2a-fee2dd571796",
        "colab": {
          "base_uri": "https://localhost:8080/",
          "height": 620
        }
      },
      "source": [
        "'''\n",
        "  this function display on screen two separate histograms,\n",
        "  the left one is histogram of INCOME, and the right one is histogram of\n",
        "  natural logarithm of INCOME ( ln(INCOME) )\n",
        "\n",
        "  Parameters\n",
        "  ---------\n",
        "  dataframe : pandas.dataframe object\n",
        "  name : string\n",
        "    dataset name\n",
        "\n",
        "'''\n",
        "def draw_hist(dataframe, name):\n",
        "  ### number of bins via Huntsberg method\n",
        "  k = int(round(1 + 3.3 * np.log(len(dict_of_dataframes['dane_2003']['INCOME']))))\n",
        "  # plt.style.available\n",
        "  plt.style.use('seaborn')\n",
        "  fig, (ax1, ax2) = plt.subplots(1, 2, figsize = (20,10))\n",
        "  ax1.hist(dataframe['INCOME'], bins = k)\n",
        "  ax2.hist(np.log(dataframe['INCOME']), bins = k)\n",
        "  ax1.set_ylabel('NUMBER OF PEOPLE')\n",
        "  ax2.set_ylabel('NUMBER OF PEOPLE')\n",
        "  ax1.set_xlabel('INCOME')\n",
        "  ax2.set_xlabel('INCOME')\n",
        "  ax1.set_title('Histogram of income ' + name)\n",
        "  ax2.set_title('Histogram of ln(income) ' + name)\n",
        "\n",
        "\n",
        "draw_hist(dict_of_dataframes['dane_2003'], 'dane_2003')\n",
        "\n",
        "#for key, value in dict_of_dataframes.items():\n",
        "#  draw_hist(value, key)"
      ],
      "execution_count": 48,
      "outputs": [
        {
          "output_type": "display_data",
          "data": {
            "image/png": "[encoded data removed]",
            "text/plain": [
              "<Figure size 1440x720 with 2 Axes>"
            ]
          },
          "metadata": {
            "tags": []
          }
        }
      ]
    },
    {
      "cell_type": "markdown",
      "metadata": {
        "id": "KhiOZH_-pwdi"
      },
      "source": [
        "\n",
        "# <a name='a8'></a> Drawing Lorenz Curve"
      ]
    },
    {
      "cell_type": "code",
      "metadata": {
        "id": "zwYnc-qMVmyE",
        "outputId": "e7ff88aa-3124-4407-e0cf-d080176f4aba",
        "colab": {
          "base_uri": "https://localhost:8080/",
          "height": 376
        }
      },
      "source": [
        "'''\n",
        "  This function displays the Lorenz curve, by means of which\n",
        "  the distribution of income in the studied sample can be determined\n",
        "\n",
        "  Parameters\n",
        "  ---------\n",
        "  dataframe : pandas.dataframe object\n",
        "  name : string\n",
        "    dataset name\n",
        "\n",
        "'''\n",
        "def draw_lorenz(dataframe, name):\n",
        "  serie = dataframe['INCOME'].copy()\n",
        "  tmp_value_list = []\n",
        "  tmp_percentage_list = []\n",
        "  serie.sort_values(ascending = True, inplace = True)\n",
        "  serie_sum = np.sum(serie)\n",
        "  serie_len = len(serie)\n",
        "  for i, each in enumerate(serie):\n",
        "    tmp_value_list.append(each / serie_sum)\n",
        "    tmp_percentage_list.append(i / serie_len)\n",
        "  fig, ax = plt.subplots()\n",
        "  # lorenz curve plot:\n",
        "  plt.plot(tmp_percentage_list, np.cumsum(tmp_value_list))\n",
        "  # equal distribution line:\n",
        "  plt.plot([0, 1], [0, 1])\n",
        "  # other attributes:\n",
        "  plt.axis([0, 1, 0, 1])\n",
        "  plt.xlabel('cumulative percentage of employees')\n",
        "  plt.ylabel('cumulative percentage of income')\n",
        "  plt.title(name)\n",
        "  plt.legend(['lorenz curve', 'equal distribution of income'])\n",
        "\n",
        "\n",
        "draw_lorenz(dict_of_dataframes['dane_2003'], 'lorenz curve dane_2003')\n",
        "\n",
        "#for key, value in dict_of_dataframes.items():\n",
        "#  draw_lorenz(value, key, idx)\n"
      ],
      "execution_count": 50,
      "outputs": [
        {
          "output_type": "display_data",
          "data": {
            "image/png": "[encoded data removed]",
            "text/plain": [
              "<Figure size 576x396 with 1 Axes>"
            ]
          },
          "metadata": {
            "tags": []
          }
        }
      ]
    },
    {
      "cell_type": "code",
      "metadata": {
        "id": "V3ozHsC3hO6P"
      },
      "source": [
        ""
      ],
      "execution_count": null,
      "outputs": []
    }
  ]
}